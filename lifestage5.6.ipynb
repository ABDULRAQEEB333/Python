{
 "cells": [
  {
   "cell_type": "code",
   "execution_count": 1,
   "metadata": {
    "collapsed": true
   },
   "outputs": [
    {
     "name": "stdout",
     "output_type": "stream",
     "text": [
      "\n The person is adult \n"
     ]
    }
   ],
   "source": [
    "age = 30\n",
    "if age < 2 :\n",
    "    print (\"\\n The person is baby \")\n",
    "elif age >= 2 and age < 4 :\n",
    "    print(\"\\n The person is toddler \")\n",
    "elif age >= 4 and age < 13 :\n",
    "    print(\"\\n The person is kid \")\n",
    "elif age >= 13 and age < 20 :\n",
    "    print(\"\\n The person is teenager \")\n",
    "elif age >= 20 and age < 65 :\n",
    "    print(\"\\n The person is adult \")\n",
    "if age == 65 or age > 65 :\n",
    "    print(\"\\n The person is elder \")"
   ]
  },
  {
   "cell_type": "code",
   "execution_count": 2,
   "metadata": {},
   "outputs": [
    {
     "name": "stdout",
     "output_type": "stream",
     "text": [
      "\n The person is teenager \n"
     ]
    }
   ],
   "source": [
    "age = 15\n",
    "if age < 2 :\n",
    "    print (\"\\n The person is baby \")\n",
    "elif age >= 2 and age < 4 :\n",
    "    print(\"\\n The person is toddler \")\n",
    "elif age >= 4 and age < 13 :\n",
    "    print(\"\\n The person is kid \")\n",
    "elif age >= 13 and age < 20 :\n",
    "    print(\"\\n The person is teenager \")\n",
    "elif age >= 20 and age < 65 :\n",
    "    print(\"\\n The person is adult \")\n",
    "if age == 65 or age > 65 :\n",
    "    print(\"\\n The person is elder \")"
   ]
  },
  {
   "cell_type": "code",
   "execution_count": 3,
   "metadata": {},
   "outputs": [
    {
     "name": "stdout",
     "output_type": "stream",
     "text": [
      "\n The person is elder \n"
     ]
    }
   ],
   "source": [
    "age = 85\n",
    "if age < 2 :\n",
    "    print (\"\\n The person is baby \")\n",
    "elif age >= 2 and age < 4 :\n",
    "    print(\"\\n The person is toddler \")\n",
    "elif age >= 4 and age < 13 :\n",
    "    print(\"\\n The person is kid \")\n",
    "elif age >= 13 and age < 20 :\n",
    "    print(\"\\n The person is teenager \")\n",
    "elif age >= 20 and age < 65 :\n",
    "    print(\"\\n The person is adult \")\n",
    "if age == 65 or age > 65 :\n",
    "    print(\"\\n The person is elder \")"
   ]
  },
  {
   "cell_type": "code",
   "execution_count": 4,
   "metadata": {},
   "outputs": [
    {
     "name": "stdout",
     "output_type": "stream",
     "text": [
      "\n The person is baby \n"
     ]
    }
   ],
   "source": [
    "age = 1\n",
    "if age < 2 :\n",
    "    print (\"\\n The person is baby \")\n",
    "elif age >= 2 and age < 4 :\n",
    "    print(\"\\n The person is toddler \")\n",
    "elif age >= 4 and age < 13 :\n",
    "    print(\"\\n The person is kid \")\n",
    "elif age >= 13 and age < 20 :\n",
    "    print(\"\\n The person is teenager \")\n",
    "elif age >= 20 and age < 65 :\n",
    "    print(\"\\n The person is adult \")\n",
    "if age == 65 or age > 65 :\n",
    "    print(\"\\n The person is elder \")"
   ]
  },
  {
   "cell_type": "code",
   "execution_count": 5,
   "metadata": {},
   "outputs": [
    {
     "name": "stdout",
     "output_type": "stream",
     "text": [
      "\n The person is kid \n"
     ]
    }
   ],
   "source": [
    "age = 4\n",
    "if age < 2 :\n",
    "    print (\"\\n The person is baby \")\n",
    "elif age >= 2 and age < 4 :\n",
    "    print(\"\\n The person is toddler \")\n",
    "elif age >= 4 and age < 13 :\n",
    "    print(\"\\n The person is kid \")\n",
    "elif age >= 13 and age < 20 :\n",
    "    print(\"\\n The person is teenager \")\n",
    "elif age >= 20 and age < 65 :\n",
    "    print(\"\\n The person is adult \")\n",
    "if age == 65 or age > 65 :\n",
    "    print(\"\\n The person is elder \")"
   ]
  },
  {
   "cell_type": "code",
   "execution_count": null,
   "metadata": {},
   "outputs": [],
   "source": []
  }
 ],
 "metadata": {
  "kernelspec": {
   "display_name": "Python 2",
   "language": "python",
   "name": "python2"
  },
  "language_info": {
   "codemirror_mode": {
    "name": "ipython",
    "version": 2
   },
   "file_extension": ".py",
   "mimetype": "text/x-python",
   "name": "python",
   "nbconvert_exporter": "python",
   "pygments_lexer": "ipython2",
   "version": "2.7.6"
  }
 },
 "nbformat": 4,
 "nbformat_minor": 0
}
