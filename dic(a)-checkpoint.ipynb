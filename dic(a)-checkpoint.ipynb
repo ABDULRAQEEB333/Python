{
 "cells": [
  {
   "cell_type": "code",
   "execution_count": 6,
   "metadata": {},
   "outputs": [
    {
     "name": "stdout",
     "output_type": "stream",
     "text": [
      "{'fname': 'Joe', 'lname': 'Anderson', 'age': 27, 'city': 'Paris'}\n"
     ]
    }
   ],
   "source": [
    "# Exercise: 6.1 (PYTHON CRASH COURSE BOOK)\n",
    "# Use a dictionary to store information about a person you know . \n",
    "# Store their first name, last name, age, and the city in which they live . \n",
    "# You should have keys such as first_name, last_name, age, and city . \n",
    "# Print each piece of information stored in your dictionary .\n",
    "\n",
    "info = {\"fname\" : \"Joe\" , \"lname\" : \"Anderson\" , \"age\" : 27 , \"city\" : \"Paris\"  }\n",
    "print (info)"
   ]
  },
  {
   "cell_type": "code",
   "execution_count": 12,
   "metadata": {},
   "outputs": [
    {
     "name": "stdout",
     "output_type": "stream",
     "text": [
      "Mahnoor's favourite number is 1\n",
      "Rafay's favourite number is 4\n",
      "Subhan's favourite number is 7\n",
      "Ramsha's favourite number is 18\n",
      "Joe's favourite number is 2\n"
     ]
    }
   ],
   "source": [
    "# Exercise: 6.2 (PYTHON CRASH COURSE BOOK)\n",
    "# Use a dictionary to store people’s favorite numbers . \n",
    "# Think of five names, and use them as keys in your dictionary .  \n",
    "# Think of a favorite number for each person, and store each as a value in your dictionary . \n",
    "# Print each person’s name and their favorite number . \n",
    "#For even more fun, poll a few friends and get some actual data for your program .\n",
    "\n",
    "fav_no = {\"Mahnoor\" : 1 , \"Rafay\" : 4 , \"Subhan\" : 7 , \"Ramsha\" : 18 , \"Joe\" : 2}\n",
    "for key , value in fav_no.items():\n",
    "    print(key+ \"'s favourite number is \" +str(value))\n"
   ]
  },
  {
   "cell_type": "code",
   "execution_count": 21,
   "metadata": {},
   "outputs": [
    {
     "name": "stdout",
     "output_type": "stream",
     "text": [
      "'List'  list is one which can store the combination of diferent data types\n",
      "'If'   If is used to check the condition \n",
      "'Tuple'  Tuple is same as list except it's element can't be change individually\n",
      "'Upper()'  This function is used to convert the sentence/words in upper case \n",
      "'Lower()'  This function is used to convert the sentence/words in lower case \n"
     ]
    }
   ],
   "source": [
    "# (Exercise 6.3) Python Crash Course\n",
    "# A Python dictionary can be used to model an actual dictionary .\n",
    "# However, to avoid confusion, let’s call it a glossary .\n",
    "# •Think of five programming words you’ve learned about in the previous chapters . \n",
    "# Use these words as the keys in your glossary, and store their meanings as values .\n",
    "# •Print each word and its meaning as neatly formatted output . \n",
    "# You might print the word followed by a colon and then its meaning, \n",
    "# or print the word on one line and then print its meaning indented on a second line .\n",
    "# Use the newline character (\\n) to insert a blank line between each word-meaning pair in your output .\n",
    "\n",
    "\n",
    "glossary = {\n",
    "            \"'list'\" : \"list is one which can store the combination of diferent data types\" ,\n",
    "            \"'if'\" : \" If is used to check the condition \" ,\n",
    "            \"'tuple'\" : \"Tuple is same as list except it's element can't be change individually\",\n",
    "            \"'upper()'\" : \"This function is used to convert the sentence/words in upper case \" ,\n",
    "            \"'lower()'\" : \"This function is used to convert the sentence/words in lower case \"\n",
    "           }\n",
    "for key,value in glossary.items() :\n",
    "    print (key.title()+ \"  \" +str(value))"
   ]
  },
  {
   "cell_type": "code",
   "execution_count": 22,
   "metadata": {},
   "outputs": [
    {
     "name": "stdout",
     "output_type": "stream",
     "text": [
      "'list'   list is one which can store the combination of diferent data types\n",
      "'if'    If is used to check the condition \n",
      "'tuple'   Tuple is same as list except it's element can't be change individually\n",
      "'upper()'   This function is used to convert the sentence/words in upper case \n",
      "'lower()'   This function is used to convert the sentence/words in lower case \n",
      "'switch'   It is used to select from menu\n",
      "'dictionary'    allow you to connect pieces of related information\n",
      "'title()'   It is used to convert a first letter of a word in upper case\n",
      "'range'   It is used to work in a given range\n",
      "'insert'   It is used to insert an elemnt in list\n"
     ]
    }
   ],
   "source": [
    "# Exercise: 6.4 (PYTHON CRASH COURSE BOOK)\n",
    "# Now that you know how to loop through a dictionary, clean up the code from Exercise 6-3 (page 102) \n",
    "# by replacing your series of print statements with a loop that runs through the dictionary’s keys and values .\n",
    "# When you’re sure that your loop works, add five more Python terms to your glossary .\n",
    "#When you run your program again, these new words and meanings should automatically be included in the output .\n",
    "\n",
    "\n",
    "glossary = {\n",
    "            \"'list'\" : \"list is one which can store the combination of diferent data types\" ,\n",
    "            \"'if'\" : \" If is used to check the condition \" ,\n",
    "            \"'tuple'\" : \"Tuple is same as list except it's element can't be change individually\",\n",
    "            \"'upper()'\" : \"This function is used to convert the sentence/words in upper case \" ,\n",
    "            \"'lower()'\" : \"This function is used to convert the sentence/words in lower case \"\n",
    "           }\n",
    "glossary[\"'switch'\"] = \"It is used to select from menu\"\n",
    "glossary[\"'dictionary'\"] = \" allow you to connect pieces of related information\"\n",
    "glossary[\"'title()'\"] = \"It is used to convert a first letter of a word in upper case\"\n",
    "glossary[\"'range'\"] = \"It is used to work in a given range\"\n",
    "glossary[\"'insert'\"] = \"It is used to insert an elemnt in list\"\n",
    "\n",
    "for key , value in glossary.items():\n",
    "    print(key+ \"   \" +value)"
   ]
  },
  {
   "cell_type": "code",
   "execution_count": 26,
   "metadata": {},
   "outputs": [
    {
     "name": "stdout",
     "output_type": "stream",
     "text": [
      "The Nile runs through Egypt\n",
      "The Amazon runs through South America\n",
      "The Satlaj runs through Pakistan\n"
     ]
    }
   ],
   "source": [
    "# Exercise : 6.5  (PYTHON CRASH COURSE BOOK)\n",
    "# Make a dictionary containing three major rivers and the country each river runs through .\n",
    "# One key-value pair might be 'nile': 'egypt' . \n",
    "# •Use a loop to print a sentence about each river, such as The Nile runs through Egypt .\n",
    "# •Use a loop to print the name of each river included in the dictionary . \n",
    "# •Use a loop to print the name of each country included in the dictionary .\n",
    "\n",
    "river = { \"nile\" : \"Egypt\" , \"Amazon\" : \"South America\" , \"Satlaj\" : \"Pakistan\" }\n",
    "for key , value in river.items():\n",
    "    print(\"The \"  +key.title()+ \" runs through \" +value.title())\n",
    "\n"
   ]
  },
  {
   "cell_type": "code",
   "execution_count": 29,
   "metadata": {},
   "outputs": [
    {
     "name": "stdout",
     "output_type": "stream",
     "text": [
      "Thanks Edward for responding .\n",
      "John you are invited to take the poll .\n",
      "Thanks Sarah for responding .\n",
      "Eli you are invited to take the poll .\n",
      "Thanks Phil for responding .\n"
     ]
    }
   ],
   "source": [
    "# Exercise : 6.6  (PYTHON CRASH COURSE BOOK)\n",
    "# •Make a list of people who should take the favorite languages poll .\n",
    "# Include some names that are already in the dictionary and some that are not . \n",
    "# •Loop through the list of people who should take the poll .\n",
    "# If they have already taken the poll, print a message thanking them for responding .\n",
    "# If they have not yet taken the poll, print a message inviting them to take the poll .\n",
    "\n",
    "\n",
    "favorite_languages = {    'jen': 'python',    'sarah': 'c',    'edward': 'ruby',    'phil': 'python',    }\n",
    "list= [\"edward\" , \"john\" , \"sarah\" , \"eli\" , \"phil\"]\n",
    "for value in list :\n",
    "    if value in favorite_languages:\n",
    "        print (\"Thanks \" +value.title()+ \" for responding .\")\n",
    "    else:\n",
    "        print (value.title()+ \" you are invited to take the poll .\")\n",
    "        \n",
    "\n",
    "\n"
   ]
  },
  {
   "cell_type": "code",
   "execution_count": 33,
   "metadata": {},
   "outputs": [
    {
     "name": "stdout",
     "output_type": "stream",
     "text": [
      "{'fname': 'Joe', 'lname': 'Anderson', 'age': 27, 'city': 'Paris'}\n",
      "{'fname': 'Eli', 'lname': 'Shawn', 'age': 10, 'city': 'Shinghai'}\n",
      "{'fname': 'Jimi', 'lname': 'Peterson', 'age': 21, 'city': 'Bostan'}\n"
     ]
    }
   ],
   "source": [
    "# Exercise : 6.7  (PYTHON CRASH COURSE BOOK)\n",
    "# Start with the program you wrote for Exercise 6-1 (page 102) .\n",
    "# Make two new dictionaries representing different people, \n",
    "# and store all three dictionaries in a list called people . \n",
    "# Loop through your list of people . As you loop through the list, print everything you know about each person .\n",
    "\n",
    "\n",
    "info1 = {\"fname\" : \"Joe\" , \"lname\" : \"Anderson\" , \"age\" : 27 , \"city\" : \"Paris\"  }\n",
    "info2 = {\"fname\" : \"Eli\" , \"lname\" : \"Shawn\" , \"age\" : 10 , \"city\" : \"Shinghai\"  }\n",
    "info3 = {\"fname\" : \"Jimi\" , \"lname\" : \"Peterson\" , \"age\" : 21 , \"city\" : \"Bostan\"  }\n",
    "people = [ info1, info2 , info3 ]\n",
    "for info in people:\n",
    "    print(info)\n"
   ]
  },
  {
   "cell_type": "code",
   "execution_count": 42,
   "metadata": {},
   "outputs": [
    {
     "name": "stdout",
     "output_type": "stream",
     "text": [
      "{'Sarah', 'Persian'}\n",
      "{'Peter', 'Bull Dog'}\n",
      "{'Python', 'Harry'}\n",
      "{'Macaw', 'Suzain'}\n"
     ]
    }
   ],
   "source": [
    "# Exercise : 6.8  (PYTHON CRASH COURSE BOOK)\n",
    "# Make several dictionaries, where the name of each dictionary is the name of a pet .\n",
    "# In each dictionary, include the kind of animal and the owner’s name .\n",
    "# Store these dictionaries in a list called pets .\n",
    "# Next, loop through your list and as you do print everything you know about each pet .\n",
    "\n",
    "\n",
    "cat = {\"Persian\"  ,  \"Sarah\"}\n",
    "dog = {\"Bull Dog\"  ,  \"Peter\"}\n",
    "snake = {\"Python\"  , \"Harry\"}\n",
    "parrot = {\"Macaw\"  ,  \"Suzain\"}\n",
    "pets = [ cat  ,  dog  ,  snake  ,  parrot]\n",
    "for info in pets :\n",
    "    print (info)"
   ]
  },
  {
   "cell_type": "code",
   "execution_count": 38,
   "metadata": {},
   "outputs": [
    {
     "name": "stdout",
     "output_type": "stream",
     "text": [
      "Ramsha  = ['Madina', 'Switzerland', 'Kashmir']\n",
      "Mahnoor  = ['Naraan', 'Chitral', 'Paris']\n",
      "Subhan  = ['Turkey', 'NewYork', 'Saif ul Malook']\n",
      "Rafay  = ['Charna Island', 'Zaiyarat', 'Oman']\n"
     ]
    }
   ],
   "source": [
    "# Exercise : 6.9  (PYTHON CRASH COURSE BOOK)\n",
    "# Make a dictionary called favorite_places .\n",
    "# Think of three names to use as keys in the dictionary, \n",
    "# and store one to three favorite places for each person . \n",
    "# To make this exercise a bit more interesting, ask some friends to name a few of their favorite places .\n",
    "# Loop through the dictionary, and print each person’s name and their favorite places .\n",
    "\n",
    "\n",
    "favorite_places = {\n",
    "                    \"Ramsha\" : [\"Madina\" , \"Switzerland\" , \"Kashmir\"] ,\n",
    "                    \"Mahnoor\" : [\"Naraan\" , \"Chitral\" , \"Paris\"] ,\n",
    "                    \"Subhan\" : [\"Turkey\" , \"NewYork\" , \"Saif ul Malook\"] ,\n",
    "                    \"Rafay\" : [\"Charna Island\" , \"Zaiyarat\" , \"Oman\"] \n",
    "                  }\n",
    "for key , value in favorite_places.items() :\n",
    "    print (key+ \"  = \" +str(value))"
   ]
  },
  {
   "cell_type": "code",
   "execution_count": null,
   "metadata": {},
   "outputs": [
    {
     "name": "stdout",
     "output_type": "stream",
     "text": [
      "Mahnoor's favorite numbers are : \n",
      "1\n",
      "2\n",
      "Rafay's favorite numbers are : \n",
      "4\n",
      "5\n",
      "Subhan's favorite numbers are : \n",
      "7\n",
      "17\n",
      "Ramsha's favorite numbers are : \n",
      "18\n",
      "0\n",
      "Joe's favorite numbers are : \n",
      "2\n",
      "1\n"
     ]
    }
   ],
   "source": [
    "# Exercise : 6.10 (PYTHON CRASH COURSE BOOK)\n",
    "# Modify your program from Exercise 6-2 (page 102) so each person can have more than one favorite number .\n",
    "# Then print each person’s name along with their favorite numbers .\n",
    "\n",
    "\n",
    "fav_no = {\n",
    "\n",
    "    \"Mahnoor\" : [ 1 , 2 ] , \n",
    "    \"Rafay\" : [ 4 , 5 ] , \n",
    "    \"Subhan\" : [ 7 , 17 ] ,  \n",
    "    \"Ramsha\" : [ 18 , 0 ] ,\n",
    "    \"Joe\" : [ 2, 1 ]\n",
    "}\n",
    "\n",
    "for keys , values in fav_no.items() :\n",
    "    print (keys+ \"'s favorite numbers are : \")\n",
    "    for value in values:\n",
    "        print (value)\n",
    "    \n",
    "    "
   ]
  },
  {
   "cell_type": "code",
   "execution_count": 73,
   "metadata": {},
   "outputs": [
    {
     "name": "stdout",
     "output_type": "stream",
     "text": [
      "City = Karachi , Country : Pakistan , Population 21.2 million , Fact  Ecnomical Hub\n",
      "City = Islamabad , Country : Pakistan , Population 1.152 million , Fact  Capital city of Pakistan\n",
      "City = Lahore , Country : Pakistan , Population 11.13 million , Fact  Heart of Pakistan\n"
     ]
    }
   ],
   "source": [
    "# Exercise : 6.11 (PYTHON CRASH COURSE BOOK)\n",
    "# Make a dictionary called cities . Use the names of three cities as keys in your dictionary .\n",
    "# Create a dictionary of information about each city and include the country that the city is in,\n",
    "# its approximate population, and one fact about that city .\n",
    "# The keys for each city’s dictionary should be something like country, population, and fact .\n",
    "# Print the name of each city and all of the information you have stored about it .\n",
    "\n",
    "\n",
    "cities = {\n",
    "\n",
    "    \"karachi\": {\n",
    "\n",
    "        \"country\": \"Pakistan\" , \"population\": \"21.2 million\", \"fact\": \"Ecnomical Hub\",\n",
    "    },\n",
    "\n",
    "    \"islamabad\": {\n",
    "\n",
    "        \"country\": \"Pakistan\" , \"population\": \"1.152 million\", \"fact\": \"Capital city of Pakistan\",\n",
    "    },\n",
    "\n",
    "    \"lahore\": {\n",
    "\n",
    "        \"country\": \"Pakistan\", \"population\": \"11.13 million\", \"fact\": \"Heart of Pakistan\",\n",
    "    },\n",
    "    }\n",
    "for key, value in cities.items():\n",
    "\n",
    "    a = value[\"country\"]\n",
    "    b = value[\"population\"]\n",
    "    c = value[\"fact\"]\n",
    "    print(\"City = \" +key.title()+ \" , Country : \" +a+ \" , Population \" +b+ \" , Fact  \" +c)\n",
    "    "
   ]
  }
 ],
 "metadata": {
  "kernelspec": {
   "display_name": "Python 3",
   "language": "python",
   "name": "python3"
  },
  "language_info": {
   "codemirror_mode": {
    "name": "ipython",
    "version": 3
   },
   "file_extension": ".py",
   "mimetype": "text/x-python",
   "name": "python",
   "nbconvert_exporter": "python",
   "pygments_lexer": "ipython3",
   "version": "3.6.3"
  }
 },
 "nbformat": 4,
 "nbformat_minor": 1
}
