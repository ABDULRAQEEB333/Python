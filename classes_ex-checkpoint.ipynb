{
 "cells": [
  {
   "cell_type": "code",
   "execution_count": 11,
   "metadata": {},
   "outputs": [
    {
     "name": "stdout",
     "output_type": "stream",
     "text": [
      "Name of Restaurant : Lasania\n",
      "Cuisine type : Continental\n",
      "The restaurant is open\n"
     ]
    }
   ],
   "source": [
    "class Restaurant():\n",
    "    \n",
    "    def __init__(self , restaurant_name , cuisine_type):\n",
    "        self.name = restaurant_name\n",
    "        self.cuisine = cuisine_type\n",
    "        \n",
    "    def describe_restaurant(self):\n",
    "        print(\"Name of Restaurant : \" +self.name)\n",
    "        print(\"Cuisine type : \" +self.cuisine)\n",
    "        \n",
    "    def open_restaurant(self):\n",
    "        print(\"The restaurant is open\")\n",
    "        \n",
    "res = Restaurant(\"Lasania\" , \"Continental\")   \n",
    "res.describe_restaurant()\n",
    "res.open_restaurant()\n",
    "        "
   ]
  },
  {
   "cell_type": "code",
   "execution_count": 13,
   "metadata": {},
   "outputs": [
    {
     "name": "stdout",
     "output_type": "stream",
     "text": [
      "Name of Restaurant : Lasania\n",
      "Cuisine type : Continental\n",
      "Name of Restaurant : Pizza Hut\n",
      "Cuisine type : Italian\n",
      "Name of Restaurant : Al Haaj \n",
      "Cuisine type : Pakistani\n"
     ]
    }
   ],
   "source": [
    "class Restaurant():\n",
    "    \n",
    "    def __init__(self , restaurant_name , cuisine_type):\n",
    "        self.name = restaurant_name\n",
    "        self.cuisine = cuisine_type\n",
    "        \n",
    "    def describe_restaurant(self):\n",
    "        print(\"Name of Restaurant : \" +self.name)\n",
    "        print(\"Cuisine type : \" +self.cuisine)\n",
    "        \n",
    "    def open_restaurant(self):\n",
    "        print(\"The restaurant is open\")\n",
    "        \n",
    "res1 = Restaurant(\"Lasania\" , \"Continental\")   \n",
    "res2 = Restaurant(\"Pizza Hut\" , \"Italian\")\n",
    "res3 = Restaurant(\"Al Haaj \" , \"Pakistani\")\n",
    "res1.describe_restaurant()\n",
    "res2.describe_restaurant()\n",
    "res3.describe_restaurant()"
   ]
  },
  {
   "cell_type": "code",
   "execution_count": 21,
   "metadata": {},
   "outputs": [
    {
     "name": "stdout",
     "output_type": "stream",
     "text": [
      "\n",
      " User info\n",
      "Name : Ramsha Azeemi\n",
      "Father name : Rizwan Azeemi\n",
      "Uni : Ssuet\n",
      "Hobby : Travelling\n",
      "\n",
      " User info\n",
      "Name : Hibasohail\n",
      "Father name : Sohail Ahmed\n",
      "Uni : Bahria University\n",
      "Hobby : Dress Designing\n",
      "\n",
      " User info\n",
      "Name : Wasaymahmood\n",
      "Father name : Adnan Mahmood\n",
      "Uni : K.U\n",
      "Hobby : Reading\n"
     ]
    }
   ],
   "source": [
    "class User():\n",
    "    \n",
    "    def __init__(self , first_name , last_name , father_name , uni , hobby ):\n",
    "        self.fn = first_name\n",
    "        self.ln = last_name\n",
    "        self.father_n =  father_name \n",
    "        self.uni = uni\n",
    "        self.hobby = hobby\n",
    "                \n",
    "    def describe_user(self):\n",
    "        print(\"\\n User info\")\n",
    "        name = self.fn  +  self.ln\n",
    "        print(\"Name : \" +name.title()+ \"\\nFather name : \" +self.father_n.title()+ \"\\nUni : \" +self.uni.title()+ \"\\nHobby : \" +self.hobby)\n",
    "    \n",
    "    def greet_user(self):\n",
    "        name = self.fn  +  self.ln\n",
    "        print(\"Hi ! \" +name)\n",
    "        \n",
    "user1 = User (\"Ramsha\" , \" Azeemi\" , \"Rizwan Azeemi\" , \"SSUET\" , \"Travelling\")\n",
    "user2 = User (\"Hiba\" , \"Sohail\" , \"Sohail Ahmed\" , \"Bahria University\" , \"Dress Designing\")\n",
    "user3 = User (\"Wasay\" , \"Mahmood\" , \"Adnan Mahmood\" , \"K.U\" , \"Reading\")\n",
    "user1.describe_user()\n",
    "user2.describe_user()\n",
    "user3.describe_user()"
   ]
  },
  {
   "cell_type": "code",
   "execution_count": null,
   "metadata": {
    "collapsed": true
   },
   "outputs": [],
   "source": []
  }
 ],
 "metadata": {
  "kernelspec": {
   "display_name": "Python 3",
   "language": "python",
   "name": "python3"
  },
  "language_info": {
   "codemirror_mode": {
    "name": "ipython",
    "version": 3
   },
   "file_extension": ".py",
   "mimetype": "text/x-python",
   "name": "python",
   "nbconvert_exporter": "python",
   "pygments_lexer": "ipython3",
   "version": "3.6.3"
  }
 },
 "nbformat": 4,
 "nbformat_minor": 1
}
