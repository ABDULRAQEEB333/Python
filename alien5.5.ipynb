{
 "cells": [
  {
   "cell_type": "code",
   "execution_count": 5,
   "metadata": {
    "collapsed": false
   },
   "outputs": [
    {
     "name": "stdout",
     "output_type": "stream",
     "text": [
      "\nPlayer just earned 5 points \n"
     ]
    }
   ],
   "source": [
    "alien_color = \"green\"\n",
    "\n",
    "if alien_color == \"green\" :\n",
    "    print(\"\\nPlayer just earned 5 points \")\n",
    "\n",
    "elif alien_color == \"yellow\":\n",
    "    print(\"\\nPlayer just earned 10 points \")\n",
    "\n",
    "elif alien_color == \"red\":\n",
    "    print(\"\\nPlayer just earned 15 points \")"
   ]
  },
  {
   "cell_type": "code",
   "execution_count": 3,
   "metadata": {},
   "outputs": [
    {
     "name": "stdout",
     "output_type": "stream",
     "text": [
      "\nPlayer just earned 10 points \n"
     ]
    }
   ],
   "source": [
    "alien_color = \"yellow\"\n",
    "\n",
    "if alien_color == \"green\" :\n",
    "    print(\"\\nPlayer just earned 5 points \")\n",
    "\n",
    "elif alien_color == \"yellow\":\n",
    "    print(\"\\nPlayer just earned 10 points \")\n",
    "\n",
    "elif alien_color == \"red\":\n",
    "    print(\"\\nPlayer just earned 15 points \")"
   ]
  },
  {
   "cell_type": "code",
   "execution_count": 4,
   "metadata": {},
   "outputs": [
    {
     "name": "stdout",
     "output_type": "stream",
     "text": [
      "\nPlayer just earned 15 points \n"
     ]
    }
   ],
   "source": [
    "alien_color = \"red\"\n",
    "\n",
    "if alien_color == \"green\" :\n",
    "    print(\"\\nPlayer just earned 5 points \")\n",
    "\n",
    "elif alien_color == \"yellow\":\n",
    "    print(\"\\nPlayer just earned 10 points \")\n",
    "\n",
    "elif alien_color == \"red\":\n",
    "    print(\"\\nPlayer just earned 15 points \")"
   ]
  },
  {
   "cell_type": "code",
   "execution_count": null,
   "metadata": {},
   "outputs": [],
   "source": []
  }
 ],
 "metadata": {
  "kernelspec": {
   "display_name": "Python 2",
   "language": "python",
   "name": "python2"
  },
  "language_info": {
   "codemirror_mode": {
    "name": "ipython",
    "version": 2
   },
   "file_extension": ".py",
   "mimetype": "text/x-python",
   "name": "python",
   "nbconvert_exporter": "python",
   "pygments_lexer": "ipython2",
   "version": "2.7.6"
  }
 },
 "nbformat": 4,
 "nbformat_minor": 0
}
